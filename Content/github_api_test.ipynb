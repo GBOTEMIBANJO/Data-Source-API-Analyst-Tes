{
  "nbformat": 4,
  "nbformat_minor": 0,
  "metadata": {
    "colab": {
      "provenance": []
    },
    "kernelspec": {
      "name": "python3",
      "display_name": "Python 3"
    },
    "language_info": {
      "name": "python"
    }
  },
  "cells": [
    {
      "cell_type": "code",
      "execution_count": null,
      "metadata": {
        "id": "OgyXWGYiPprR"
      },
      "outputs": [],
      "source": [
        "# AUTHENTICATION\n",
        "import requests\n",
        "\n",
        "headers = {\n",
        "    \"Authorization\": \"Bearer YOUR_TOKEN_HERE\",  # Replace with your token\n",
        "    \"Accept\": \"application/vnd.github+json\",\n",
        "    \"X-GitHub-Api-Version\": \"2022-11-28\"\n",
        "}\n"
      ]
    },
    {
      "cell_type": "code",
      "source": [
        "# SEARCH REPOSITORIES\n",
        "def search_repositories(query=\"data\", per_page=5):\n",
        "    url = f\"https://api.github.com/search/repositories?q={query}&per_page={per_page}\"\n",
        "    response = requests.get(url, headers=headers)\n",
        "    print(response.status_code)\n",
        "    return response.json()\n"
      ],
      "metadata": {
        "id": "5BB2j35OPuul"
      },
      "execution_count": null,
      "outputs": []
    },
    {
      "cell_type": "code",
      "source": [
        "# GET COMMITS\n",
        "def get_commits(owner, repo):\n",
        "    url = f\"https://api.github.com/repos/{owner}/{repo}/commits\"\n",
        "    response = requests.get(url, headers=headers)\n",
        "    return response.json()\n"
      ],
      "metadata": {
        "id": "cBbRkntTP6yy"
      },
      "execution_count": null,
      "outputs": []
    },
    {
      "cell_type": "code",
      "source": [
        "# TRY THEM OUT\n",
        "print(search_repositories(\"machine learning\"))\n",
        "print(get_commits(\"octocat\", \"Hello-World\"))\n",
        "print(get_contents(\"octocat\", \"Hello-World\"))\n"
      ],
      "metadata": {
        "id": "xdmpBHfAP6tP"
      },
      "execution_count": null,
      "outputs": []
    },
    {
      "cell_type": "code",
      "source": [],
      "metadata": {
        "id": "xgBNU-gtP6l4"
      },
      "execution_count": null,
      "outputs": []
    },
    {
      "cell_type": "code",
      "source": [],
      "metadata": {
        "id": "TE_9UeVGPt9U"
      },
      "execution_count": null,
      "outputs": []
    }
  ]
}